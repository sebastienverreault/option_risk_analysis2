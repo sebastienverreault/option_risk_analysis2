{
    "metadata": {
        "kernelspec": {
            "name": "python3",
            "display_name": "Python 3",
            "language": "python"
        },
        "language_info": {
            "name": "python",
            "version": "3.8.10",
            "mimetype": "text/x-python",
            "codemirror_mode": {
                "name": "ipython",
                "version": 3
            },
            "pygments_lexer": "ipython3",
            "nbconvert_exporter": "python",
            "file_extension": ".py"
        }
    },
    "nbformat_minor": 2,
    "nbformat": 4,
    "cells": [
        {
            "cell_type": "markdown",
            "source": [
                "# Log Normal Out of the Money Price Simulation\n",
                "\n",
                ""
            ],
            "metadata": {
                "azdata_cell_guid": "b3e1c88d-1c59-4786-ad0e-cde01b723cfc"
            },
            "attachments": {}
        },
        {
            "cell_type": "code",
            "source": [
                "\n",
                "import math\n",
                "\n",
                "import pandas as pd\n",
                "# import pandas.io.sql as sqlio\n",
                "\n",
                "import numpy as np\n",
                "from numpy.random import default_rng\n",
                "np.set_printoptions(precision=5, suppress=True)\n",
                "\n",
                "import matplotlib as mpl\n",
                "import matplotlib.pyplot as plt\n",
                "\n",
                "import scipy as scipy\n",
                "from scipy.optimize import fsolve\n",
                "\n",
                "import psycopg2\n",
                "\n",
                "# import seaborn as sns\n",
                "\n",
                "from math import log, sqrt, exp, pi\n",
                "from scipy.stats import norm, laplace, t as student_t\n",
                "\n",
                "# Markdown in code cell\n",
                "from IPython.display import Markdown as md\n",
                "\n",
                "\n",
                "plt.style.use('seaborn')\n",
                "plt.colormaps\n",
                "mpl.rcParams['savefig.dpi'] = 300\n",
                "mpl.rcParams['font.family'] = 'serif'\n",
                "\n",
                "btcusd_1min = pd.read_csv(\"./BTCUSD.csv\", sep=\",\", header=0, names=[\"date\",\"open\",\"high\",\"low\",\"close\"], index_col=\"date\")\n",
                "\n",
                "btcusd_1min['ret_2min'] = np.log(btcusd_1min['close'] / btcusd_1min['close'].shift(2))\n",
                "\n",
                "vol_2min = btcusd_1min['ret_2min'].std()\n",
                "\n",
                "# number of 2-minute per year\n",
                "nb_2min_per_year = 60/2 * 24 * 365.25\n",
                "vol_ann = vol_2min * sqrt(nb_2min_per_year)\n",
                ""
            ],
            "metadata": {
                "azdata_cell_guid": "273771a3-8fb2-425e-8569-040b158fa3b7",
                "tags": [
                    "hide_input"
                ]
            },
            "outputs": [],
            "execution_count": 8
        },
        {
            "cell_type": "markdown",
            "source": [
                "## Monte Carlo Simulation\n",
                "\n",
                "The following will be used in the simulation below:  \n",
                "\n",
                "```\n",
                "S(T) = S(0) * exp[(r - 0.5 * σ^2)*T + σ√Tz]\n",
                "\n",
                "where\n",
                "S(0) = 30,000.00 USD\n",
                "T = 2 minutes, i.e. 3.80e-06 year\n",
                "r = 0\n",
                "σ = 150.53% annual volatility\n",
                "\n",
                "```"
            ],
            "metadata": {
                "azdata_cell_guid": "193eab5c-5ff5-4a10-9406-443171ef973c"
            },
            "attachments": {}
        },
        {
            "cell_type": "code",
            "source": [
                "\n",
                "# underlying price at t=0\n",
                "S0 = 30_000.00\n",
                "\n",
                "# risk free rate (no present value discounting)\n",
                "r = 0.0\n",
                "\n",
                "# 2min yearly fraction\n",
                "T = 1 / (60/2 * 24 * 365.25)\n",
                "\n",
                "# annualized 2min volatility\n",
                "sigma = vol_ann\n",
                "\n",
                "# number of price simulations\n",
                "I = 1_000_000\n",
                "\n",
                "# fixes the seed for reproducibility\n",
                "rng = default_rng(99)\n",
                "# rng = default_rng()\n",
                "\n",
                "# underlying price vector at maturity\n",
                "ST = S0 * np.exp((r - sigma ** 2 / 2) * T + sigma * math.sqrt(T) * rng.standard_normal(I))\n",
                "\n",
                "# mean of terminal prices\n",
                "ST_mean = ST.mean()\n",
                "\n",
                "# standard deviation of terminal prices\n",
                "ST_std = ST.std()\n",
                "\n",
                "header = '''|variable|value|\n",
                "|:-:|-:|'''\n",
                "\n",
                "table = \"\"\n",
                "table += f\"|S(0)|{float('%.8g' % S0)} USD|\\n\"\n",
                "table += f\"|T|{float('%.3g' % T)}|\\n\"\n",
                "table += f\"|r|{r}|\\n\"\n",
                "table += f\"|σ|{float('%.5g' % (sigma*100))}%|\\n\"\n",
                "table += f\"|I|{I}|\\n\"\n",
                "\n",
                "table2 = \"\"\n",
                "table2 += f\"|S(T)|{ST[:5].round(1)}...|\\n\"\n",
                "\n",
                "table3 = \"\"\n",
                "table3 += f\"|S(T) mean|{float('%.7g' % ST_mean)}|\\n\"\n",
                "table3 += f\"|S(T) std|{float('%.4g' % ST_std)}|\\n\"\n",
                "\n",
                "md(f\"\"\"### Simulation calculated variables\n",
                "{header}\n",
                "{table}\n",
                "### Terminal prices samples\n",
                "{header}\n",
                "{table2}\n",
                "### Terminal prices stats\n",
                "{header}\n",
                "{table3}\n",
                "\"\"\")\n",
                ""
            ],
            "metadata": {
                "azdata_cell_guid": "186c415c-8791-49b3-817e-e4b0e2968a4a",
                "tags": [
                    "hide_input"
                ]
            },
            "outputs": [
                {
                    "data": {
                        "text/plain": "<IPython.core.display.Markdown object>",
                        "text/markdown": "### Simulation calculated variables\n|variable|value|\n|:-:|-:|\n|S(0)|30000.0 USD|\n|T|3.8e-06|\n|r|0.0|\n|σ|150.53%|\n|I|1000000|\n\n### Terminal prices samples\n|variable|value|\n|:-:|-:|\n|S(T)|[30007.1 29959.  30004.3 30060.4 29845.6]...|\n\n### Terminal prices stats\n|variable|value|\n|:-:|-:|\n|S(T) mean|30000.06|\n|S(T) std|88.05|\n\n"
                    },
                    "metadata": {},
                    "execution_count": 9,
                    "output_type": "execute_result"
                }
            ],
            "execution_count": 9
        },
        {
            "cell_type": "code",
            "source": [
                "\n",
                "# at-the-money strike price => fair value @ 50%-50% exercise probability\n",
                "K_at_money = S0\n",
                "\n",
                "# call option payoff at maturity\n",
                "CT_at_money = np.maximum(ST - K_at_money, 0)\n",
                "\n",
                "# out-of-the-money strike price => \n",
                "# add once the premium of the at-the-money option to the strike price as an experiment\n",
                "K = S0 + CT_at_money.mean()\n",
                "\n",
                "# call option payoff at maturity\n",
                "CT = np.maximum(ST - K, 0)\n",
                "\n",
                "CT_mean = CT.mean()\n",
                "CT_std = CT.std()\n",
                "\n",
                "# call option fair value\n",
                "C0 = math.exp(-r * T) * CT_mean\n",
                "\n",
                "header = '''|variable|value|\n",
                "|:-:|-:|'''\n",
                "\n",
                "table = \"\"\n",
                "table += f\"|K|{float('%.8g' % K)} USD|\\n\"\n",
                "\n",
                "table2 = \"\"\n",
                "table2 += f\"|C(T)|{CT[:5].round(1)}...|\\n\"\n",
                "\n",
                "table3 = \"\"\n",
                "table3 += f\"|C(T) mean|{float('%.4g' % CT_mean)}|\\n\"\n",
                "table3 += f\"|C(T) std|{float('%.4g' % CT_std)}|\\n\"\n",
                "table3 += f\"|C0|{float('%.4g' % C0)}|\\n\"\n",
                "\n",
                "md(f\"\"\"### Option payoff variables\n",
                "{header}\n",
                "{table}\n",
                "### Terminal option payoff samples\n",
                "{header}\n",
                "{table2}\n",
                "### Terminal option payoff stats\n",
                "{header}\n",
                "{table3}\"\"\")\n",
                ""
            ],
            "metadata": {
                "azdata_cell_guid": "9ec2d5a3-e200-425d-86ec-7b0112782296",
                "tags": [
                    "hide_input"
                ]
            },
            "outputs": [
                {
                    "data": {
                        "text/plain": "<IPython.core.display.Markdown object>",
                        "text/markdown": "### Option payoff variables\n|variable|value|\n|:-:|-:|\n|K|30035.16 USD|\n\n### Terminal option payoff samples\n|variable|value|\n|:-:|-:|\n|C(T)|[ 0.   0.   0.  25.2  0. ]...|\n\n### Terminal option payoff stats\n|variable|value|\n|:-:|-:|\n|C(T) mean|20.35|\n|C(T) std|39.45|\n|C0|20.35|\n"
                    },
                    "metadata": {},
                    "execution_count": 10,
                    "output_type": "execute_result"
                }
            ],
            "execution_count": 10
        },
        {
            "cell_type": "code",
            "source": [
                "\n",
                "plt.figure(figsize=(24, 15))\n",
                "plt.hist(CT, bins=250, label='frequency');\n",
                "\n",
                "plt.axvline(CT_mean, color='r', label=f\"mean ({float('%.7g' % (CT_mean))})\")\n",
                "\n",
                "plt.title(f'Terminal Option Payoff Distribution from {I} samples')\n",
                "plt.legend(loc='best');\n",
                "plt.show()"
            ],
            "metadata": {
                "azdata_cell_guid": "a65fad25-1e33-4306-b4df-7100a26f7afb",
                "tags": [
                    "hide_input"
                ]
            },
            "outputs": [
                {
                    "data": {
                        "text/plain": "<Figure size 1728x1080 with 1 Axes>",
                        "image/png": "[encoded data removed]"
                    },
                    "metadata": {
                        "needs_background": "light"
                    },
                    "output_type": "display_data"
                }
            ],
            "execution_count": 11
        },
        {
            "cell_type": "markdown",
            "source": [
                "## Present Value of the expected payoff\n",
                "\n",
                "Given that, in this case, the time interval (maturity) is 2 minutes, there's no interest to be gained by investing a certain amount temporarily in a risk-free asset (bank account, short-rate bond, etc.) so the risk-free rate is zero and the discounted / present value is the same as the terminal / future value.\n",
                "\n",
                "```\n",
                "C0 = Expected Value, Average or Mean of [C(T)]\n",
                "\n",
                "```"
            ],
            "metadata": {
                "azdata_cell_guid": "bdadd4ab-de85-4824-879b-b1482c37e979"
            },
            "attachments": {}
        },
        {
            "cell_type": "markdown",
            "source": [
                "## Black–Scholes–Merton option price\n",
                "\n",
                "The BSM call option price formula is:\n",
                "```\n",
                "C(0) = S(0) * N(d1) - K * exp[-r * T] * N(d2)\n",
                "\n",
                "with\n",
                "d1 = (ln[S(0) / K] + (r + 0.5 * σ^2)*T) / σ√T\n",
                "d2 = d1 - σ√T\n",
                "\n",
                "and where\n",
                "N() is the standard normal cummulative probability distribution function\n",
                "N(d2) can be interpreted as the probability that a call option will be exercised\n",
                "N(d1) is not easy to interpret by itself\n",
                "S(0)*N(d1)*exp[rT] can be interpreted as the expected terminal underlying price when underlying prices less than the strike are counted as zero (to present value is then: S(0)*N(d1))\n",
                "```\n",
                "\n",
                "So the call option price is the discounted expected value of the terminal underlying price (with below strike prices accounted as zero) less the the strike price given exercise (weighted by the probability of exercise).\n",
                "\n",
                "\n",
                ""
            ],
            "metadata": {
                "azdata_cell_guid": "317fc3c3-6f6a-4720-8b98-6c0f4d20d9d4"
            },
            "attachments": {}
        },
        {
            "cell_type": "code",
            "source": [
                "\n",
                "# theoretical non-simulated call price\n",
                "d1 = (log(S0/K) + (r + 0.5 * sigma**2) * T) / sigma / sqrt(T)\n",
                "d2 = d1 - sigma * sqrt(T)\n",
                "N_d1 = norm.cdf(d1)\n",
                "N_d2 = norm.cdf(d2)\n",
                "BSM_C0 = S0 * N_d1 - K * exp(-r*T) * N_d2\n",
                "\n",
                "header = '''|variable|value|\n",
                "|:-:|-:|'''\n",
                "\n",
                "table = \"\"\n",
                "table += f\"|S(0)|{float('%.8g' % S0)} USD|\\n\"\n",
                "table += f\"|T|{float('%.3g' % T)}|\\n\"\n",
                "table += f\"|r|{r}|\\n\"\n",
                "table += f\"|σ|{float('%.5g' % (sigma*100))}%|\\n\"\n",
                "table += f\"|K|{float('%.8g' % K)} USD|\\n\"\n",
                "table += f\"|BSM C0|{float('%.4g' % BSM_C0)} USD|\\n\"\n",
                "table += f\"|MC C0|{float('%.4g' % C0)} USD|\\n\"\n",
                "\n",
                "table2 = \"\"\n",
                "table2 += f\"|d1|{float('%.6g' % (d1))}|\\n\"\n",
                "table2 += f\"|d2|{float('%.6g' % (d2))}|\\n\"\n",
                "table2 += f\"|N(d1)|{float('%.4g' % (N_d1))}|\\n\"\n",
                "table2 += f\"|N(d2)|{float('%.4g' % (N_d2))}|\\n\"\n",
                "table2 += f\"|S(0)*N(d1)|{float('%.7g' % (S0*N_d1))} USD|\\n\"\n",
                "table2 += f\"|-K*N(d2)|{float('%.7g' % (-K*N_d2))} USD|\\n\"\n",
                "table2 += f\"|S(0)*N(d1)-K*N(d2)|{float('%.4g' % (S0*N_d1-K*N_d2))} USD|\\n\"\n",
                "\n",
                "md(f\"\"\"### Option price comparison\n",
                "{header}\n",
                "{table}\n",
                "### BSM Terms\n",
                "{header}\n",
                "{table2}\"\"\")\n",
                ""
            ],
            "metadata": {
                "azdata_cell_guid": "e784b878-5423-44f1-ab99-9cd6071ba677",
                "tags": [
                    "hide_input"
                ]
            },
            "outputs": [
                {
                    "data": {
                        "text/plain": "<IPython.core.display.Markdown object>",
                        "text/markdown": "### Option price comparison\n|variable|value|\n|:-:|-:|\n|S(0)|30000.0 USD|\n|T|3.8e-06|\n|r|0.0|\n|σ|150.53%|\n|K|30035.16 USD|\n|BSM C0|20.33 USD|\n|MC C0|20.35 USD|\n\n### BSM Terms\n|variable|value|\n|:-:|-:|\n|d1|-0.397566|\n|d2|-0.400502|\n|N(d1)|0.3455|\n|N(d2)|0.3444|\n|S(0)*N(d1)|10364.25 USD|\n|-K*N(d2)|-10343.91 USD|\n|S(0)*N(d1)-K*N(d2)|20.33 USD|\n"
                    },
                    "metadata": {},
                    "execution_count": 12,
                    "output_type": "execute_result"
                }
            ],
            "execution_count": 12
        },
        {
            "cell_type": "markdown",
            "source": [
                "## Identifying BSM terms in terminal price distribution\n",
                "\n",
                ""
            ],
            "metadata": {
                "azdata_cell_guid": "b3618145-ff20-47d3-b067-3369c67976c8"
            },
            "attachments": {}
        },
        {
            "cell_type": "code",
            "source": [
                "\n",
                "plt.figure(figsize=(24, 15))\n",
                "n, bins, patches = plt.hist(ST, bins=1000);\n",
                "for c, p in zip(bins, patches):\n",
                "    if c <= K_at_money:\n",
                "        plt.setp(p, 'facecolor', 'red')\n",
                "    elif c > K_at_money and c <= K:\n",
                "        plt.setp(p, 'facecolor', 'orange')\n",
                "    # else:\n",
                "    #     plt.setp(p, 'facecolor', 'royalblue')\n",
                "\n",
                "plt.axvline(K_at_money, color='r', label=f\"at-the-money strike ({float('%.7g' % (K_at_money))})\", linestyle='--')\n",
                "plt.axvline(K, color='orange', label=f\"out-of-the-moneystrike ({float('%.7g' % (K))})\", linestyle='--')\n",
                "\n",
                "plt.text(29800, 3500, \"prices below at-the-money exercise\", color='r')\n",
                "plt.text(30005, 4000, \"prices below out-of-the-money exercise\", color='orange')\n",
                "plt.text(30100, 3500, \"prices above exercise\", color='royalblue')\n",
                "\n",
                "plt.title(f'Terminal Price Distribution from {I} samples')\n",
                "plt.legend(loc='best');\n",
                "plt.show()\n",
                ""
            ],
            "metadata": {
                "azdata_cell_guid": "8a89f711-ad12-496e-b0cd-47828c8cd283",
                "tags": [
                    "hide_input"
                ]
            },
            "outputs": [
                {
                    "data": {
                        "text/plain": "<Figure size 1728x1080 with 1 Axes>",
                        "image/png": "[encoded data removed]"
                    },
                    "metadata": {
                        "needs_background": "light"
                    },
                    "output_type": "display_data"
                }
            ],
            "execution_count": 13
        },
        {
            "cell_type": "code",
            "source": [
                "\n",
                "ST_below_K = ST[ST <= K]\n",
                "ST_above_K = ST[ST > K]\n",
                "\n",
                "ST_N_d1 = np.concatenate((ST_below_K*0, ST_above_K))\n",
                "\n",
                "\n",
                "header = '''|variable|value|\n",
                "|:-:|-:|'''\n",
                "\n",
                "table = \"\"\n",
                "table += f\"|Count(ST <= K)|{ST_below_K.size}|\\n\"\n",
                "table += f\"|Count(ST  > K)|{ST_above_K.size}|\\n\"\n",
                "table += f\"|Total Count|{ST_below_K.size + ST_above_K.size}|\\n\"\n",
                "table += f\"|Nbr of sims (I)|{I}|\\n\"\n",
                "table += f\"|Percent(ST <= K)|{float('%.4g' % (ST_below_K.size/I))}|\\n\"\n",
                "table += f\"|Percent(ST  > K)|{float('%.4g' % (ST_above_K.size/I))}|\\n\"\n",
                "\n",
                "table2 = \"\"\n",
                "table2 += f\"|S(T)*N(d1)|{float('%.7g' % (ST_N_d1.mean()))} USD|\\n\"\n",
                "table2 += f\"|-K*N(d2)|{float('%.7g' % (-K*(ST_above_K.size/I)))} USD|\\n\"\n",
                "table2 += f\"|S(T)\\*N(d1) - K\\*N(d2)|{float('%.4g' % (ST_N_d1.mean()-K*(ST_above_K.size/I)))} USD|\\n\"\n",
                "\n",
                "md(f\"\"\"### Frequency stats\n",
                "{header}\n",
                "{table}\n",
                "### BSM Terms from terminal prices\n",
                "{header}\n",
                "{table2}\n",
                "\"\"\")\n",
                ""
            ],
            "metadata": {
                "azdata_cell_guid": "be127c6b-6b5d-44b5-a407-0c5b4f3d6940",
                "tags": [
                    "hide_input"
                ]
            },
            "outputs": [
                {
                    "data": {
                        "text/plain": "<IPython.core.display.Markdown object>",
                        "text/markdown": "### Frequency stats\n|variable|value|\n|:-:|-:|\n|Count(ST <= K)|655404|\n|Count(ST  > K)|344596|\n|Total Count|1000000|\n|Nbr of sims (I)|1000000|\n|Percent(ST <= K)|0.6554|\n|Percent(ST  > K)|0.3446|\n\n### BSM Terms from terminal prices\n|variable|value|\n|:-:|-:|\n|S(T)*N(d1)|10370.35 USD|\n|-K*N(d2)|-10350.0 USD|\n|S(T)\\*N(d1) - K\\*N(d2)|20.35 USD|\n\n"
                    },
                    "metadata": {},
                    "execution_count": 14,
                    "output_type": "execute_result"
                }
            ],
            "execution_count": 14
        },
        {
            "cell_type": "code",
            "source": [
                "\n",
                "plt.figure(figsize=(24, 15))\n",
                "plt.hist(ST_N_d1, bins=250, label='frequency');\n",
                "\n",
                "plt.axvline(ST_N_d1.mean(), color='r', label=f\"mean ({float('%.7g' % (ST_N_d1.mean()))})\")\n",
                "\n",
                "plt.title(f'Terminal price distribution when underlying prices less than strike are zeroed (S(T)*N(d1))')\n",
                "plt.legend(loc='best');\n",
                "plt.show()"
            ],
            "metadata": {
                "azdata_cell_guid": "2374a3f3-6ed2-4889-bac9-0b66651c1b44",
                "tags": [
                    "hide_input"
                ]
            },
            "outputs": [
                {
                    "data": {
                        "text/plain": "<Figure size 1728x1080 with 1 Axes>",
                        "image/png": "[encoded data removed]"
                    },
                    "metadata": {
                        "needs_background": "light"
                    },
                    "output_type": "display_data"
                }
            ],
            "execution_count": 15
        },
        {
            "cell_type": "markdown",
            "source": [
                "## Out-of-the-money call option pricing summary\n",
                "\n",
                "In this version of the simulation, a strike price equal to the initial (t=0) underlying price **plus a certain spread** was used to compare \"out-of-the-money\" pricing.\n",
                "\n",
                "The difference in strike was highlighted in orange in the price distribution to show where the effect of a \"fee\" on the strike price is.\n",
                "\n",
                "The first assumption in deriving the pricing of the no-premium option is that most users find utility in it by itself even at a marked up strike price. \n",
                "\n",
                "So are willing to incur the fee on the strike price and will exercise the option even if the underlying price is below the strike price but above the initial underlying price - orange section.\n",
                "\n",
                "So the maturity payoff of the option is: \n",
                "- C_out_money_no_premium(T) = S(T) - K, if S(T) > K_at_money, else 0\n",
                "    - note that if K > S(T) > K_at_money, S(T) - K is negative, yet exercised for utility purposes\n",
                "\n",
                "versus: \n",
                "- C_out_money(T) = S(T) - K, if S(T) > K, else 0\n",
                "\n",
                "The subtility being that the exercise is calculated based on the at-the-money strike level (instead of the out-of-the-money strike) while the payoff is calculated based on the actual strike as normal (the out-of-the-money strike). \n",
                "\n",
                "So part of the payoff at maturity is effectively negative opening the possibility for the expected value of the payoff to be zero at a certain strike price. \n",
                "\n",
                "So the question is, what is that strike price and is it a usable fee proxy or is it too large that it voids the assumption of excercise at a loss?\n",
                "\n",
                "\n",
                "\n",
                "\n",
                "\n",
                "\n",
                "\n",
                "\n",
                "<!-- \n",
                "The Pnl is therefore: K_at_money - S(T) - C_out_money_prime(T)\n",
                "\n",
                "\n",
                "\n",
                "\n",
                "This affects the probabil\n",
                "\n",
                "\n",
                "The other assumption is that if arbitrageurs are present their expected gains will be counter balanced by the fee on the strike price, i.e. the out-of-the-money contract.\n",
                "\n",
                "One must realize that the arbitrage opportunity on the no-premium option does not disapear but is merely funded by the other users.\n",
                "\n",
                "So the question is what fee level balances the two sides.\n",
                "\n",
                "\n",
                "\n",
                "The underwriter of the option in such a context receives the out-of-the-money strike\n",
                "\n",
                " as if the option had the probability of exercise of an at-the-money option,\n",
                "\n",
                "```\n",
                "Pnl = K_at_the_money - S(T) - C(T)\n",
                "```\n",
                "\n",
                "1. The arbitrageurs' expected gain is the premium of the out-of-the-money option: E[max(ST - K_at_money, 0)].\n",
                "1. The other users' expected cost is the terminal underlying price less the out-of-the-money strike: \n",
                "\n",
                "The subtility being that the probability of exercise is calculated based on the at-the-money strike level while the pnl is based on the out-of-the-money strike.\n",
                "\n",
                "```\n",
                "ST\n",
                "``` -->"
            ],
            "metadata": {
                "azdata_cell_guid": "70a4b956-4130-4ced-b5ce-d17cbe4989a6"
            },
            "attachments": {}
        },
        {
            "cell_type": "markdown",
            "source": [
                "## No-premium Option Payoff"
            ],
            "metadata": {
                "azdata_cell_guid": "a0ff6028-af66-4990-b50a-c0bc088c68d5"
            },
            "attachments": {}
        },
        {
            "cell_type": "code",
            "source": [
                "\n",
                "# not exercised\n",
                "CT_below_K_at_money = ST[ST <= K_at_money] * 0\n",
                "\n",
                "# exercised at a loss\n",
                "CT_below_K = ST[ST > K_at_money]\n",
                "CT_below_K = CT_below_K[CT_below_K <= K] - K\n",
                "\n",
                "# exercised at a gain\n",
                "CT_above_K = ST[ST > K] - K\n",
                "\n",
                "# call option payoff at maturity\n",
                "CT_no_premium = ST_N_d1 = np.concatenate((CT_below_K_at_money, CT_below_K, CT_above_K))\n",
                "\n",
                "CT_no_premium_mean = CT_no_premium.mean()\n",
                "CT_no_premium_std = CT_no_premium.std()\n",
                "\n",
                "# call option fair value\n",
                "C0_no_premium = math.exp(-r * T) * CT_no_premium_mean\n",
                "\n",
                "header = '''|variable|value|\n",
                "|:-:|-:|'''\n",
                "\n",
                "table = \"\"\n",
                "table += f\"|K|{float('%.8g' % K)} USD|\\n\"\n",
                "table += f\"|K_at_money|{float('%.8g' % K_at_money)} USD|\\n\"\n",
                "\n",
                "table2 = \"\"\n",
                "table2 += f\"|C_no_premium(T)|{CT_no_premium[-5:].round(1)}...|\\n\"\n",
                "table2 += f\"|Count(C_no_premium(T))|{CT_no_premium.size}|\\n\"\n",
                "\n",
                "table3 = \"\"\n",
                "table3 += f\"|C_no_premium(T) mean|{float('%.4g' % CT_no_premium_mean)}|\\n\"\n",
                "table3 += f\"|C_no_premium(T) std|{float('%.4g' % CT_no_premium_std)}|\\n\"\n",
                "table3 += f\"|C0_no_premium|{float('%.4g' % C0_no_premium)}|\\n\"\n",
                "\n",
                "md(f\"\"\"### Option payoff variables\n",
                "{header}\n",
                "{table}\n",
                "### Terminal option payoff samples\n",
                "{header}\n",
                "{table2}\n",
                "### Terminal option payoff stats\n",
                "{header}\n",
                "{table3}\"\"\")\n",
                ""
            ],
            "metadata": {
                "azdata_cell_guid": "bbe083f2-e534-4601-92d9-f330f8fe301f",
                "tags": [
                    "hide_input"
                ]
            },
            "outputs": [
                {
                    "data": {
                        "text/plain": "<IPython.core.display.Markdown object>",
                        "text/markdown": "### Option payoff variables\n|variable|value|\n|:-:|-:|\n|K|30035.16 USD|\n|K_at_money|30000.0 USD|\n\n### Terminal option payoff samples\n|variable|value|\n|:-:|-:|\n|C_no_premium(T)|[102.   81.2   2.1  33.  101.2]...|\n|Count(C_no_premium(T))|1000000|\n\n### Terminal option payoff stats\n|variable|value|\n|:-:|-:|\n|C_no_premium(T) mean|17.59|\n|C_no_premium(T) std|41.55|\n|C0_no_premium|17.59|\n"
                    },
                    "metadata": {},
                    "execution_count": 16,
                    "output_type": "execute_result"
                }
            ],
            "execution_count": 16
        },
        {
            "cell_type": "code",
            "source": [
                "\n",
                "plt.figure(figsize=(24, 15))\n",
                "n, bins, patches = plt.hist(CT_no_premium, bins=250);\n",
                "mode_index = n.argmax()\n",
                "for c, p in zip(bins, patches):\n",
                "    if c >= bins[mode_index] and c < bins[mode_index+1]:\n",
                "        plt.setp(p, 'facecolor', 'red')\n",
                "    elif c < 0:\n",
                "        plt.setp(p, 'facecolor', 'orange')\n",
                "    # else:\n",
                "    #     plt.setp(p, 'facecolor', 'royalblue')\n",
                "\n",
                "plt.axvline(CT_no_premium_mean, color='r', label=f\"mean ({float('%.7g' % (CT_no_premium_mean))})\", linestyle='--')\n",
                "\n",
                "plt.title(f'Terminal No-Premium Option Payoff Distribution from {I} samples')\n",
                "plt.legend(loc='best');\n",
                "plt.show()\n",
                ""
            ],
            "metadata": {
                "azdata_cell_guid": "950b3527-a5ee-4bd7-93ec-2d7952a43d3a",
                "tags": [
                    "hide_input"
                ]
            },
            "outputs": [
                {
                    "data": {
                        "text/plain": "<Figure size 1728x1080 with 1 Axes>",
                        "image/png": "[encoded data removed]"
                    },
                    "metadata": {
                        "needs_background": "light"
                    },
                    "output_type": "display_data"
                }
            ],
            "execution_count": 17
        },
        {
            "cell_type": "code",
            "source": [
                "\n",
                "# not exercised\n",
                "ST_below_K_at_money = ST[ST <= K_at_money]\n",
                "\n",
                "# exercised at a loss\n",
                "ST_below_K = ST[ST > K_at_money]\n",
                "ST_below_K = ST_below_K[ST_below_K <= K]\n",
                " \n",
                "# exercised at a gain\n",
                "ST_above_K = ST[ST > K]\n",
                "\n",
                "\n",
                "ST_N_d1 = np.concatenate((ST_below_K_at_money*0, ST_below_K, ST_above_K))\n",
                "\n",
                "\n",
                "header = '''|variable|value|\n",
                "|:-:|-:|'''\n",
                "\n",
                "table = \"\"\n",
                "table += f\"|Count(ST <= K_at_money)|{ST_below_K_at_money.size}|\\n\"\n",
                "table += f\"|Count(ST <= K)|{ST_below_K.size}|\\n\"\n",
                "table += f\"|Count(ST  > K)|{ST_above_K.size}|\\n\"\n",
                "table += f\"|Total Count|{ST_below_K_at_money.size + ST_below_K.size + ST_above_K.size}|\\n\"\n",
                "table += f\"|Nbr of sims (I)|{I}|\\n\"\n",
                "table += f\"|Percent(ST <= K)|{float('%.4g' % (ST_below_K_at_money.size/I))}|\\n\"\n",
                "table += f\"|Percent(ST  > K)|{float('%.4g' % ((ST_below_K.size + ST_above_K.size)/I))}|\\n\"\n",
                "\n",
                "table2 = \"\"\n",
                "table2 += f\"|S(T)*N(d1)|{float('%.7g' % (ST_N_d1.mean()))} USD|\\n\"\n",
                "table2 += f\"|-K*N(d2)|{float('%.7g' % (-K*((ST_below_K.size + ST_above_K.size)/I)))} USD|\\n\"\n",
                "table2 += f\"|S(T)\\*N(d1) - K\\*N(d2)|{float('%.4g' % (ST_N_d1.mean()-K*((ST_below_K.size + ST_above_K.size)/I)))} USD|\\n\"\n",
                "\n",
                "md(f\"\"\"### Frequency stats\n",
                "{header}\n",
                "{table}\n",
                "### BSM Terms from terminal prices\n",
                "{header}\n",
                "{table2}\n",
                "\"\"\")\n",
                ""
            ],
            "metadata": {
                "azdata_cell_guid": "eaeace60-a8e9-49c3-9a05-dd3564c75808",
                "tags": [
                    "hide_input"
                ]
            },
            "outputs": [
                {
                    "data": {
                        "text/plain": "<IPython.core.display.Markdown object>",
                        "text/markdown": "### Frequency stats\n|variable|value|\n|:-:|-:|\n|Count(ST <= K_at_money)|500166|\n|Count(ST <= K)|155238|\n|Count(ST  > K)|344596|\n|Total Count|1000000|\n|Nbr of sims (I)|1000000|\n|Percent(ST <= K)|0.5002|\n|Percent(ST  > K)|0.4998|\n\n### BSM Terms from terminal prices\n|variable|value|\n|:-:|-:|\n|S(T)*N(d1)|15030.18 USD|\n|-K*N(d2)|-15012.59 USD|\n|S(T)\\*N(d1) - K\\*N(d2)|17.59 USD|\n\n"
                    },
                    "metadata": {},
                    "execution_count": 18,
                    "output_type": "execute_result"
                }
            ],
            "execution_count": 18
        },
        {
            "cell_type": "code",
            "source": [
                "\n",
                "# theoretical non-simulated call price\n",
                "d1 = (log(S0/K_at_money) + (r + 0.5 * sigma**2) * T) / sigma / sqrt(T)\n",
                "d2 = d1 - sigma * sqrt(T)\n",
                "N_d1 = norm.cdf(d1)\n",
                "N_d2 = norm.cdf(d2)\n",
                "BSM_C0_no_premium = S0 * N_d1 - K * exp(-r*T) * N_d2\n",
                "\n",
                "header = '''|variable|value|\n",
                "|:-:|-:|'''\n",
                "\n",
                "table = \"\"\n",
                "table += f\"|S(0)|{float('%.8g' % S0)} USD|\\n\"\n",
                "table += f\"|T|{float('%.3g' % T)}|\\n\"\n",
                "table += f\"|r|{r}|\\n\"\n",
                "table += f\"|σ|{float('%.5g' % (sigma*100))}%|\\n\"\n",
                "table += f\"|K|{float('%.8g' % K)} USD|\\n\"\n",
                "table += f\"|BSM C0_no_premium|{float('%.4g' % BSM_C0_no_premium)} USD|\\n\"\n",
                "table += f\"|MC C0_no_premium|{float('%.4g' % C0_no_premium)} USD|\\n\"\n",
                "\n",
                "table2 = \"\"\n",
                "table2 += f\"|d1|{float('%.6g' % (d1))}|\\n\"\n",
                "table2 += f\"|d2|{float('%.6g' % (d2))}|\\n\"\n",
                "table2 += f\"|N(d1)|{float('%.4g' % (N_d1))}|\\n\"\n",
                "table2 += f\"|N(d2)|{float('%.4g' % (N_d2))}|\\n\"\n",
                "table2 += f\"|S(0)*N(d1)|{float('%.7g' % (S0*N_d1))} USD|\\n\"\n",
                "table2 += f\"|-K*N(d2)|{float('%.7g' % (-K*N_d2))} USD|\\n\"\n",
                "table2 += f\"|S(0)*N(d1)-K*N(d2)|{float('%.4g' % (S0*N_d1-K*N_d2))} USD|\\n\"\n",
                "\n",
                "md(f\"\"\"### Option price comparison\n",
                "{header}\n",
                "{table}\n",
                "### BSM Terms\n",
                "{header}\n",
                "{table2}\"\"\")\n",
                ""
            ],
            "metadata": {
                "azdata_cell_guid": "ff0eafe4-6449-42ca-806e-b53794a73abf",
                "tags": [
                    "hide_input"
                ]
            },
            "outputs": [
                {
                    "data": {
                        "text/plain": "<IPython.core.display.Markdown object>",
                        "text/markdown": "### Option price comparison\n|variable|value|\n|:-:|-:|\n|S(0)|30000.0 USD|\n|T|3.8e-06|\n|r|0.0|\n|σ|150.53%|\n|K|30035.16 USD|\n|BSM C0_no_premium|17.57 USD|\n|MC C0_no_premium|17.59 USD|\n\n### BSM Terms\n|variable|value|\n|:-:|-:|\n|d1|0.00146768|\n|d2|-0.00146768|\n|N(d1)|0.5006|\n|N(d2)|0.4994|\n|S(0)*N(d1)|15017.57 USD|\n|-K*N(d2)|-14999.99 USD|\n|S(0)*N(d1)-K*N(d2)|17.57 USD|\n"
                    },
                    "metadata": {},
                    "execution_count": 19,
                    "output_type": "execute_result"
                }
            ],
            "execution_count": 19
        },
        {
            "cell_type": "markdown",
            "source": [
                "## Solving for the No-premium option strike"
            ],
            "metadata": {
                "azdata_cell_guid": "f6b85824-953d-4bdd-9660-378688670253"
            },
            "attachments": {}
        },
        {
            "cell_type": "code",
            "source": [
                "# BSM no-premium option strike calculator\n",
                "\n",
                "def bsm_no_premium_strike(S0, T, sigma):\n",
                "    # init\n",
                "    r = 0.0\n",
                "    K_at_money = S0\n",
                "    # bsm terms\n",
                "    d1 = (log(S0/K_at_money) + (r + 0.5 * sigma**2) * T) / sigma / sqrt(T)\n",
                "    d2 = d1 - sigma * sqrt(T)\n",
                "    N_d1 = norm.cdf(d1)\n",
                "    N_d2 = norm.cdf(d2)\n",
                "    \n",
                "    def bsm_premium(K):\n",
                "        # bsm premium\n",
                "        BSM_C0_no_premium = S0 * N_d1 - K * exp(-r*T) * N_d2\n",
                "        return BSM_C0_no_premium\n",
                "    \n",
                "    K_no_premium = fsolve(bsm_premium, K_at_money)[0]\n",
                "    \n",
                "    return K_no_premium\n",
                "\n",
                "K_no_premium = bsm_no_premium_strike(S0, T, sigma)\n",
                "K_no_premium"
            ],
            "metadata": {
                "azdata_cell_guid": "648bf98b-f9b9-47f1-a6e8-2489c77254aa",
                "tags": [
                    "hide_input"
                ]
            },
            "outputs": [
                {
                    "data": {
                        "text/plain": "30070.34464864535"
                    },
                    "metadata": {},
                    "execution_count": 20,
                    "output_type": "execute_result"
                }
            ],
            "execution_count": 20
        },
        {
            "cell_type": "code",
            "source": [
                "# MC Normal no-premium option strike calculator\n",
                "\n",
                "def mc_no_premium_strike(S0, T, sigma, I):\n",
                "    # init\n",
                "    r = 0.0\n",
                "    K_at_money = S0\n",
                "\n",
                "    # underlying price vector at maturity\n",
                "    mc_rng = default_rng()\n",
                "    ST = S0 * np.exp((r - sigma ** 2 / 2) * T + sigma * math.sqrt(T) * mc_rng.standard_normal(I))\n",
                "\n",
                "    def mc_premium(K):\n",
                "        # not exercised\n",
                "        CT_below_K_at_money = ST[ST <= K_at_money] * 0\n",
                "\n",
                "        # exercised at a loss\n",
                "        CT_below_K = ST[ST > K_at_money]\n",
                "        CT_below_K = CT_below_K[CT_below_K <= K] - K\n",
                "\n",
                "        # exercised at a gain\n",
                "        CT_above_K = ST[ST > K] - K\n",
                "\n",
                "        # call option payoff at maturity\n",
                "        CT_no_premium = np.concatenate((CT_below_K_at_money, CT_below_K, CT_above_K))\n",
                "\n",
                "        CT_no_premium_mean = CT_no_premium.mean()\n",
                "\n",
                "        # call option fair value\n",
                "        MC_C0_no_premium = math.exp(-r * T) * CT_no_premium_mean\n",
                "\n",
                "        return MC_C0_no_premium\n",
                "    \n",
                "    K_no_premium = fsolve(mc_premium, K_at_money)[0]\n",
                "    \n",
                "    return K_no_premium\n",
                "\n",
                "MC_K_no_premium = mc_no_premium_strike(S0, T, sigma, I)\n",
                "MC_K_no_premium"
            ],
            "metadata": {
                "azdata_cell_guid": "bdbca3e1-b87c-4b14-9c4b-ea0bbb627e08",
                "tags": [
                    "hide_input"
                ]
            },
            "outputs": [
                {
                    "data": {
                        "text/plain": "30070.469164527647"
                    },
                    "metadata": {},
                    "execution_count": 21,
                    "output_type": "execute_result"
                }
            ],
            "execution_count": 21
        },
        {
            "cell_type": "code",
            "source": [
                "\n",
                "# theoretical non-simulated call price\n",
                "d1 = (log(S0/K_at_money) + (r + 0.5 * sigma**2) * T) / sigma / sqrt(T)\n",
                "d2 = d1 - sigma * sqrt(T)\n",
                "N_d1 = norm.cdf(d1)\n",
                "N_d2 = norm.cdf(d2)\n",
                "BSM_C0_at_money = S0 * N_d1 - K_at_money * exp(-r*T) * N_d2\n",
                "BSM_C0_no_premium = S0 * N_d1 - K_no_premium * exp(-r*T) * N_d2\n",
                "\n",
                "header = '''|variable|value|\n",
                "|:-:|-:|'''\n",
                "\n",
                "table = \"\"\n",
                "table += f\"|S(0)|{float('%.8g' % S0)} USD|\\n\"\n",
                "table += f\"|T|{float('%.3g' % T)}|\\n\"\n",
                "table += f\"|r|{r}|\\n\"\n",
                "table += f\"|σ|{float('%.5g' % (sigma*100))}%|\\n\"\n",
                "table += f\"|BSM_C0_at_money|{float('%.4g' % BSM_C0_at_money)} USD|\\n\"\n",
                "table += f\"|2*BSM_C0_at_money|{float('%.4g' % (2*BSM_C0_at_money))} USD|\\n\"\n",
                "table += f\"|K_no_premium-S0|{float('%.4g' % (K_no_premium-S0))} USD|\\n\"\n",
                "table += f\"|(K_no_premium-S0)/S0|{float('%.6g' % (100*(K_no_premium-S0)/S0))} %|\\n\"\n",
                "table += f\"|K_no_premium|{float('%.8g' % K_no_premium)} USD|\\n\"\n",
                "table += f\"|BSM C0_no_premium|{float('%.4g' % BSM_C0_no_premium)} USD|\\n\"\n",
                "\n",
                "table2 = \"\"\n",
                "table2 += f\"|d1|{float('%.6g' % (d1))}|\\n\"\n",
                "table2 += f\"|d2|{float('%.6g' % (d2))}|\\n\"\n",
                "table2 += f\"|N(d1)|{float('%.4g' % (N_d1))}|\\n\"\n",
                "table2 += f\"|N(d2)|{float('%.4g' % (N_d2))}|\\n\"\n",
                "table2 += f\"|S(0)*N(d1)|{float('%.7g' % (S0*N_d1))} USD|\\n\"\n",
                "table2 += f\"|-K_no_premium*N(d2)|{float('%.7g' % (-K_no_premium*N_d2))} USD|\\n\"\n",
                "table2 += f\"|S(0)*N(d1)-K_no_premium*N(d2)|{float('%.4g' % (S0*N_d1-K_no_premium*N_d2))} USD|\\n\"\n",
                "\n",
                "md(f\"\"\"### Option price comparison\n",
                "{header}\n",
                "{table}\n",
                "### BSM Terms\n",
                "{header}\n",
                "{table2}\"\"\")\n",
                ""
            ],
            "metadata": {
                "azdata_cell_guid": "05b82c98-7778-45e0-8f35-bce493777b90",
                "tags": [
                    "hide_input"
                ]
            },
            "outputs": [
                {
                    "data": {
                        "text/plain": "<IPython.core.display.Markdown object>",
                        "text/markdown": "### Option price comparison\n|variable|value|\n|:-:|-:|\n|S(0)|30000.0 USD|\n|T|3.8e-06|\n|r|0.0|\n|σ|150.53%|\n|BSM_C0_at_money|35.13 USD|\n|2*BSM_C0_at_money|70.26 USD|\n|K_no_premium-S0|70.34 USD|\n|(K_no_premium-S0)/S0|0.234482 %|\n|K_no_premium|30070.345 USD|\n|BSM C0_no_premium|-1.819e-12 USD|\n\n### BSM Terms\n|variable|value|\n|:-:|-:|\n|d1|0.00146768|\n|d2|-0.00146768|\n|N(d1)|0.5006|\n|N(d2)|0.4994|\n|S(0)*N(d1)|15017.57 USD|\n|-K_no_premium*N(d2)|-15017.57 USD|\n|S(0)*N(d1)-K_no_premium*N(d2)|-1.819e-12 USD|\n"
                    },
                    "metadata": {},
                    "execution_count": 22,
                    "output_type": "execute_result"
                }
            ],
            "execution_count": 22
        },
        {
            "cell_type": "markdown",
            "source": [
                "## Profit and Loss"
            ],
            "metadata": {
                "azdata_cell_guid": "d01c2079-bf9b-4ffe-806b-4e30b1cac2bb"
            },
            "attachments": {}
        },
        {
            "cell_type": "code",
            "source": [
                "\n",
                "# sample size\n",
                "N = ST.size\n",
                "\n",
                "\n",
                "# calc the exercised prices\n",
                "ST_exercised = ST[ST > S0]\n",
                "\n",
                "# calc mc student's t strike\n",
                "mc_normal_strike = MC_K_no_premium\n",
                "# calc mc student's t option payoffs\n",
                "mc_normal_ct = ST_exercised - mc_normal_strike\n",
                "# calc mc student's t pnl\n",
                "mc_normal_pnl = -mc_normal_ct\n",
                "\n",
                "\n",
                "\n",
                "plt.figure(figsize=(24, 15))\n",
                "plt.hist(mc_normal_pnl, bins=1000, label='frequency', range=[-S0*.01, S0*0.01]);\n",
                "\n",
                "plt.axvline(mc_normal_pnl.mean(), color='r', label=f\"mean ({float('%.7g' % (mc_normal_pnl.mean()))})\")\n",
                "\n",
                "plt.title(f'MC Normal Pnl Distribution from {N} samples')\n",
                "plt.legend(loc='best');\n",
                "plt.show()"
            ],
            "metadata": {
                "azdata_cell_guid": "c267f71e-ffc0-47eb-a4be-3fd2bb2079f6",
                "tags": [
                    "hide_input"
                ]
            },
            "outputs": [
                {
                    "data": {
                        "text/plain": "<Figure size 1728x1080 with 1 Axes>",
                        "image/png": "[encoded data removed]"
                    },
                    "metadata": {
                        "needs_background": "light"
                    },
                    "output_type": "display_data"
                }
            ],
            "execution_count": 23
        }
    ]
}