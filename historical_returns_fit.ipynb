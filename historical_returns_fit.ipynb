{
    "metadata": {
        "kernelspec": {
            "name": "python3",
            "display_name": "Python 3",
            "language": "python"
        },
        "language_info": {
            "name": "python",
            "version": "3.8.10",
            "mimetype": "text/x-python",
            "codemirror_mode": {
                "name": "ipython",
                "version": 3
            },
            "pygments_lexer": "ipython3",
            "nbconvert_exporter": "python",
            "file_extension": ".py"
        }
    },
    "nbformat_minor": 2,
    "nbformat": 4,
    "cells": [
        {
            "cell_type": "markdown",
            "source": [
                "# Historical Returns Distribution fitting\n",
                "\n",
                "## Normal or not\n",
                "\n",
                "Before using the Volatility infered from the log-returns normality assumption, it is worth looking into the validity of that assumption.\n",
                "\n",
                ""
            ],
            "metadata": {
                "azdata_cell_guid": "ea66d477-bb0b-4f76-a77e-e388e36d4c81"
            },
            "attachments": {}
        },
        {
            "cell_type": "markdown",
            "source": [
                "## Normal Distribution\n",
                ""
            ],
            "metadata": {
                "azdata_cell_guid": "2b90a85a-f0f4-4bc6-880a-7ef2f9068b17"
            },
            "attachments": {}
        },
        {
            "cell_type": "markdown",
            "source": [
                "## Laplace Distribution"
            ],
            "metadata": {
                "azdata_cell_guid": "ae57bdd5-306a-46f4-a3cc-3fffef134a13"
            },
            "attachments": {}
        },
        {
            "cell_type": "markdown",
            "source": [
                "## Lookback at the sigma levels"
            ],
            "metadata": {
                "azdata_cell_guid": "1355be0c-5286-4dcc-8f31-7f6049599c9c"
            }
        },
        {
            "cell_type": "code",
            "source": [
                ""
            ],
            "metadata": {
                "azdata_cell_guid": "db80a39b-e904-43d7-8d1b-084c5fdc6b9b"
            },
            "outputs": [],
            "execution_count": null
        }
    ]
}