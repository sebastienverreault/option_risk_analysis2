{
    "metadata": {
        "kernelspec": {
            "name": "python3",
            "display_name": "Python 3",
            "language": "python"
        },
        "language_info": {
            "name": "python",
            "version": "3.8.10",
            "mimetype": "text/x-python",
            "codemirror_mode": {
                "name": "ipython",
                "version": 3
            },
            "pygments_lexer": "ipython3",
            "nbconvert_exporter": "python",
            "file_extension": ".py"
        }
    },
    "nbformat_minor": 2,
    "nbformat": 4,
    "cells": [
        {
            "cell_type": "markdown",
            "source": [
                "# Historical Volatility\n",
                "\n",
                "## From prices to returns\n",
                "It is commmon to model the stock prices as log-normally distributed, leading to normally distributed log-returns.\n",
                "\n",
                "Log-normal implies positive only prices and the normal distribution is very familliar\n",
                "\n",
                "We will assume the same for BTC/USD prices and verify the assumption at a later stage.\n",
                "\n",
                "If S is the price of BTC in USD, then ΔS is the change in price for a very short time period Δt. \n",
                "The simple return then is r(Δt) = ΔS / S and the log-return: ln[ r(Δt) ] = ln( ΔS / S ].\n",
                "\n",
                "In discreet form:\n",
                "```\n",
                "r(t) = [S(t) - S(t-1)] / S(t-1)\n",
                "r(t) = S(t) / S(t-1) - 1\n",
                "```\n",
                "and\n",
                "\n",
                "```\n",
                "ln[ r(t) ] = ln[ S(t) / S(t-1) - 1 ]\n",
                "ln[ r(t) ] = ln[ S(t) / S(t-1) ]  - ln [ 1 ]\n",
                "ln[ r(t) ] = ln[ S(t) / S(t-1) ]  - 0\n",
                "ln[ r(t) ] = ln[ S(t) / S(t-1) ]\n",
                "```\n",
                "\n",
                "Therefore starting with the 1-minute (bar/candle) BTC price series, the 1-minute log return is the natural log of the ratio between the current price and the previous.\n",
                "\n",
                "The analysis is for a 2-minute time period so even if the data is on 1-minute period, the code will lookback 2 periods to account for it.\n",
                "\n",
                ""
            ],
            "metadata": {
                "azdata_cell_guid": "a5e8b5b2-75f7-4b22-a850-7392ff05dc05"
            },
            "attachments": {}
        },
        {
            "cell_type": "code",
            "source": [
                "\n",
                "import math\n",
                "\n",
                "import pandas as pd\n",
                "# import pandas.io.sql as sqlio\n",
                "\n",
                "import numpy as np\n",
                "from numpy.random import default_rng\n",
                "np.set_printoptions(precision=5, suppress=True)\n",
                "\n",
                "import psycopg2\n",
                "\n",
                "import matplotlib as mpl\n",
                "import matplotlib.pyplot as plt\n",
                "\n",
                "from math import log, sqrt, exp, pi\n",
                "from scipy.stats import norm\n",
                "\n",
                "plt.style.use('seaborn')\n",
                "mpl.rcParams['savefig.dpi'] = 300\n",
                "mpl.rcParams['font.family'] = 'serif'\n",
                ""
            ],
            "metadata": {
                "azdata_cell_guid": "52139a9b-c54a-456a-8367-143f880783a8",
                "tags": [
                    "hide_input"
                ]
            },
            "outputs": [],
            "execution_count": 11
        },
        {
            "cell_type": "markdown",
            "source": [
                "## Load the prices and look at some data points"
            ],
            "metadata": {
                "azdata_cell_guid": "f3c9ff98-ce54-4bbf-b82f-da301c8b9a6f"
            },
            "attachments": {}
        },
        {
            "cell_type": "code",
            "source": [
                "\n",
                "btcusd_1min = pd.read_csv(\"./BTCUSD.csv\", sep=\",\", header=0, names=[\"date\",\"open\",\"high\",\"low\",\"close\"], index_col=\"date\")\n",
                "\n",
                "btcusd_1min.head(5)"
            ],
            "metadata": {
                "azdata_cell_guid": "05308703-ce13-4dfd-a7ac-ff1673990251",
                "tags": [
                    "hide_input"
                ]
            },
            "outputs": [
                {
                    "output_type": "execute_result",
                    "execution_count": 7,
                    "data": {
                        "text/plain": "                  open  high  low  close\ndate                                    \n2012-01-02 20:04   5.0   5.0  5.0    5.0\n2012-01-03 11:45   5.3   5.3  5.3    5.3\n2012-01-03 14:22   5.1   5.1  5.1    5.1\n2012-01-03 14:54   5.3   5.3  5.3    5.3\n2012-01-03 15:32   5.3   5.3  5.3    5.3",
                        "text/html": "<div>\n<style scoped>\n    .dataframe tbody tr th:only-of-type {\n        vertical-align: middle;\n    }\n\n    .dataframe tbody tr th {\n        vertical-align: top;\n    }\n\n    .dataframe thead th {\n        text-align: right;\n    }\n</style>\n<table border=\"1\" class=\"dataframe\">\n  <thead>\n    <tr style=\"text-align: right;\">\n      <th></th>\n      <th>open</th>\n      <th>high</th>\n      <th>low</th>\n      <th>close</th>\n    </tr>\n    <tr>\n      <th>date</th>\n      <th></th>\n      <th></th>\n      <th></th>\n      <th></th>\n    </tr>\n  </thead>\n  <tbody>\n    <tr>\n      <th>2012-01-02 20:04</th>\n      <td>5.0</td>\n      <td>5.0</td>\n      <td>5.0</td>\n      <td>5.0</td>\n    </tr>\n    <tr>\n      <th>2012-01-03 11:45</th>\n      <td>5.3</td>\n      <td>5.3</td>\n      <td>5.3</td>\n      <td>5.3</td>\n    </tr>\n    <tr>\n      <th>2012-01-03 14:22</th>\n      <td>5.1</td>\n      <td>5.1</td>\n      <td>5.1</td>\n      <td>5.1</td>\n    </tr>\n    <tr>\n      <th>2012-01-03 14:54</th>\n      <td>5.3</td>\n      <td>5.3</td>\n      <td>5.3</td>\n      <td>5.3</td>\n    </tr>\n    <tr>\n      <th>2012-01-03 15:32</th>\n      <td>5.3</td>\n      <td>5.3</td>\n      <td>5.3</td>\n      <td>5.3</td>\n    </tr>\n  </tbody>\n</table>\n</div>"
                    },
                    "metadata": {}
                }
            ],
            "execution_count": 7
        },
        {
            "cell_type": "code",
            "source": [
                "btcusd_1min.tail(5)"
            ],
            "metadata": {
                "azdata_cell_guid": "70a25d3d-5045-4216-bffc-fdc0dd83b5ff"
            },
            "outputs": [
                {
                    "output_type": "execute_result",
                    "execution_count": 9,
                    "data": {
                        "text/plain": "                     open     high      low    close\ndate                                                \n2022-05-31 10:32  31599.1  31599.1  31599.1  31599.1\n2022-05-31 10:33  31599.1  31599.1  31599.1  31599.1\n2022-05-31 10:34  31607.3  31618.1  31607.3  31614.7\n2022-05-31 10:35  31611.0  31615.3  31596.4  31601.7\n2022-05-31 10:36  31601.7  31610.1  31600.1  31605.2",
                        "text/html": "<div>\n<style scoped>\n    .dataframe tbody tr th:only-of-type {\n        vertical-align: middle;\n    }\n\n    .dataframe tbody tr th {\n        vertical-align: top;\n    }\n\n    .dataframe thead th {\n        text-align: right;\n    }\n</style>\n<table border=\"1\" class=\"dataframe\">\n  <thead>\n    <tr style=\"text-align: right;\">\n      <th></th>\n      <th>open</th>\n      <th>high</th>\n      <th>low</th>\n      <th>close</th>\n    </tr>\n    <tr>\n      <th>date</th>\n      <th></th>\n      <th></th>\n      <th></th>\n      <th></th>\n    </tr>\n  </thead>\n  <tbody>\n    <tr>\n      <th>2022-05-31 10:32</th>\n      <td>31599.1</td>\n      <td>31599.1</td>\n      <td>31599.1</td>\n      <td>31599.1</td>\n    </tr>\n    <tr>\n      <th>2022-05-31 10:33</th>\n      <td>31599.1</td>\n      <td>31599.1</td>\n      <td>31599.1</td>\n      <td>31599.1</td>\n    </tr>\n    <tr>\n      <th>2022-05-31 10:34</th>\n      <td>31607.3</td>\n      <td>31618.1</td>\n      <td>31607.3</td>\n      <td>31614.7</td>\n    </tr>\n    <tr>\n      <th>2022-05-31 10:35</th>\n      <td>31611.0</td>\n      <td>31615.3</td>\n      <td>31596.4</td>\n      <td>31601.7</td>\n    </tr>\n    <tr>\n      <th>2022-05-31 10:36</th>\n      <td>31601.7</td>\n      <td>31610.1</td>\n      <td>31600.1</td>\n      <td>31605.2</td>\n    </tr>\n  </tbody>\n</table>\n</div>"
                    },
                    "metadata": {}
                }
            ],
            "execution_count": 9
        },
        {
            "cell_type": "markdown",
            "source": [
                "## Calculate the 2-minute log-return from the 'close' and plot both"
            ],
            "metadata": {
                "azdata_cell_guid": "207ee0fa-3126-4abf-9483-66403250b0bb"
            },
            "attachments": {}
        },
        {
            "cell_type": "code",
            "source": [
                "\n",
                "btcusd_1min['ret_2min'] = np.log(btcusd_1min['close'] / btcusd_1min['close'].shift(2))\n",
                "\n",
                "btcusd_1min[['close', 'ret_2min']].plot(subplots=True, style='b', figsize=(16, 10))\n",
                "\n",
                "plt.show()"
            ],
            "metadata": {
                "azdata_cell_guid": "668b2ff4-4b66-4e71-927a-0ad729f41e6c",
                "tags": [
                    "hide_input"
                ]
            },
            "outputs": [
                {
                    "output_type": "display_data",
                    "data": {
                        "text/plain": "<Figure size 1152x720 with 2 Axes>",
                        "image/png": "[encoded data removed]"
                    },
                    "metadata": {
                        "needs_background": "light"
                    }
                },
                {
                    "output_type": "execute_result",
                    "execution_count": 16,
                    "data": {
                        "text/plain": "array([<AxesSubplot:xlabel='date'>, <AxesSubplot:xlabel='date'>],\n      dtype=object)"
                    },
                    "metadata": {}
                }
            ],
            "execution_count": 16
        },
        {
            "cell_type": "markdown",
            "source": [
                "## From returns to volatility\n",
                "\n",
                "The _assumed_ normal property of the returns is used to infer information about the distribution of an observed sample, i.e. the historical data.\n",
                "\n",
                "The distribution of the returns over a period of T years follows a Normal distribution defined by it's two parameters, the mean and the variance:\n",
                "\n",
                "```\n",
                "ln[r] ~ Normal( mean, variance )\n",
                "where \n",
                "mean = μ-σ^2/2\n",
                "variance = standard deviation^2 = σ^2/T\n",
                "```\n",
                "\n",
                "So the standard deviation (the measure of uncertainty about the mean) is given by σ/√T which is used as volatility (the measure of uncertainty about the returns).\n",
                "\n",
                "Using the sample standard deviation estimate from the emperical log-returns and accounting for Δt = 2-minute, the 2-minute volatility and annualized volatility can be calculated.\n",
                "\n",
                "```\n",
                "t = number of 2-minute time period per year\n",
                "annualized volatility = sample standard deviation estimate / √t\n",
                "```\n",
                ""
            ],
            "metadata": {
                "azdata_cell_guid": "c7b4b71f-30a9-4be6-8770-0c44949e73be"
            },
            "attachments": {}
        },
        {
            "cell_type": "markdown",
            "source": [
                "## Calculate the 2-minute volatility"
            ],
            "metadata": {
                "azdata_cell_guid": "30633d93-7f32-476b-b568-ced1dc5e69ac"
            },
            "attachments": {}
        },
        {
            "cell_type": "code",
            "source": [
                "\n",
                "vol_2min = btcusd_1min['ret_2min'].std()\n",
                "f'2-minute Volatility: {vol_2min.round(4)*100}%'"
            ],
            "metadata": {
                "azdata_cell_guid": "5db5adda-c7fb-4667-bd32-f6094f32d1cb",
                "tags": []
            },
            "outputs": [
                {
                    "output_type": "execute_result",
                    "execution_count": 25,
                    "data": {
                        "text/plain": "'2-minute Volatility: 0.29%'"
                    },
                    "metadata": {}
                }
            ],
            "execution_count": 25
        },
        {
            "cell_type": "markdown",
            "source": [
                "## Calculate the Annual Volatility"
            ],
            "metadata": {
                "azdata_cell_guid": "9a61b80c-0101-4a6f-9489-cb564768e435"
            },
            "attachments": {}
        },
        {
            "cell_type": "code",
            "source": [
                "\n",
                "# number of 2-minute per year\n",
                "nb_2min_per_year = 60/2 * 24 * 365.25\n",
                "vol_ann = vol_2min * sqrt(nb_2min_per_year)\n",
                "f'Annual Volatility: {vol_ann.round(4)*100}%'"
            ],
            "metadata": {
                "azdata_cell_guid": "6afd8125-3529-4aa3-b440-66f20db77c9a",
                "tags": [
                    "hide_input"
                ]
            },
            "outputs": [
                {
                    "output_type": "execute_result",
                    "execution_count": 23,
                    "data": {
                        "text/plain": "'Annual Volatility: 150.53%'"
                    },
                    "metadata": {}
                }
            ],
            "execution_count": 23
        },
        {
            "cell_type": "markdown",
            "source": [
                "## Volatility interpretation and sigma levels\n",
                "\n",
                "A 1-standard-deviation move in the price of BTC in 2 minutes is given by the 2-minute volatility calculated above. \n",
                "\n",
                "Given a BTC price of 30,000.00 USD and a 2-minute volatility of 0.29%:\n",
                "\n",
                "```\n",
                "Price move = 30,000.00 USD * 0.29% = 88.06 USD\n",
                "```\n",
                "\n",
                "So a move up yields a new price of 30,088.06 USD and a move down a new price of 29,911.94 USD.\n",
                "\n",
                "The term \"sigma\" (from the greek letter representing the \"standard deviation\") is used to describe the relative magnitude of a price move.\n",
                "\n",
                "So at an 2-minute volatility of 0.29% (annual volatility of 150.53%)\n",
                "\n",
                "|sigma level|%|USD|frequency in normal distribution*|\n",
                "|:-:|-|-:|-:|\n",
                "|1|0.29%| 88.06|80,000 events / year|\n",
                "|2|0.58%|176.12|10,000 events / year|\n",
                "|3|0.87%|264.18|700 events / year|\n",
                "|4|1.16%|352.24|20 events / year|\n",
                "|5|1.45%|440.30|2 events / 10 years|\n",
                "|6|1.74%|528.36|5 events / 10,000 years|\n",
                "\n",
                "*frequency of an event of X sigma or more to occur on the + or - side\n",
                "\n",
                "The table above shows the % and USD price move for a X sigma level and the frequency of events at or above that level. \n",
                "\n",
                "So based on the assumption of normal distribution about 700x per year within a 2-minute time period, there could be a greater or equal than 0.87% / 264.18 USD / 3-sigma price move on the positive or negative side from a starting price of 30,000.00 USD.\n",
                ""
            ],
            "metadata": {
                "azdata_cell_guid": "23788d18-b682-430b-aa05-f95d53801abf"
            },
            "attachments": {}
        },
        {
            "cell_type": "markdown",
            "source": [
                "## Sigmal level calcs"
            ],
            "metadata": {
                "azdata_cell_guid": "d59d5691-9a80-4a12-9192-6b6f1b7ff4bf"
            },
            "attachments": {}
        },
        {
            "cell_type": "code",
            "source": [
                "\n",
                "btc_price = 30000\n",
                "f'1 sigma move: {btc_price} USD * 1 * {vol_2min.round(4)*100}% = {(1 * btc_price * vol_2min).round(2)} USD'\n",
                ""
            ],
            "metadata": {
                "azdata_cell_guid": "215b3ef1-03a3-4372-8408-98c44fef36c2",
                "tags": [
                    "hide_input"
                ]
            },
            "outputs": [
                {
                    "output_type": "execute_result",
                    "execution_count": 35,
                    "data": {
                        "text/plain": "'1 sigma move: 30000 USD * 1 * 0.29% = 88.06 USD'"
                    },
                    "metadata": {}
                }
            ],
            "execution_count": 35
        },
        {
            "cell_type": "code",
            "source": [
                "\n",
                "f'2 sigma move: {btc_price} USD * 2 * {vol_2min.round(4)*100}% = {(2 * btc_price * vol_2min).round(2)} USD'\n",
                ""
            ],
            "metadata": {
                "azdata_cell_guid": "d0d003ea-f56f-47e2-91a6-16a7e1ab8e75",
                "tags": [
                    "hide_input"
                ]
            },
            "outputs": [
                {
                    "output_type": "execute_result",
                    "execution_count": 36,
                    "data": {
                        "text/plain": "'2 sigma move: 30000 USD * 2 * 0.29% = 176.12 USD'"
                    },
                    "metadata": {}
                }
            ],
            "execution_count": 36
        },
        {
            "cell_type": "code",
            "source": [
                "\n",
                "f'3 sigma move: {btc_price} USD * 3 * {vol_2min.round(4)*100}% = {(3 * btc_price * vol_2min).round(2)} USD'\n",
                ""
            ],
            "metadata": {
                "azdata_cell_guid": "e2c43ead-7e78-4b56-893a-0049d1bbc325",
                "tags": [
                    "hide_input"
                ]
            },
            "outputs": [
                {
                    "output_type": "execute_result",
                    "execution_count": 37,
                    "data": {
                        "text/plain": "'3 sigma move: 30000 USD * 3 * 0.29% = 264.18 USD'"
                    },
                    "metadata": {}
                }
            ],
            "execution_count": 37
        },
        {
            "cell_type": "code",
            "source": [
                "\n",
                "f'4 sigma move: {btc_price} USD * 4 * {vol_2min.round(4)*100}% = {(4 * btc_price * vol_2min).round(2)} USD'\n",
                ""
            ],
            "metadata": {
                "azdata_cell_guid": "5043e088-1ade-4a31-8f3e-061b3bbe75e4",
                "tags": [
                    "hide_input"
                ]
            },
            "outputs": [
                {
                    "output_type": "execute_result",
                    "execution_count": 38,
                    "data": {
                        "text/plain": "'4 sigma move: 30000 USD * 4 * 0.29% = 352.24 USD'"
                    },
                    "metadata": {}
                }
            ],
            "execution_count": 38
        },
        {
            "cell_type": "code",
            "source": [
                "\n",
                "f'5 sigma move: {btc_price} USD * 5 * {vol_2min.round(4)*100}% = {(5 * btc_price * vol_2min).round(2)} USD'\n",
                ""
            ],
            "metadata": {
                "azdata_cell_guid": "53e31b1a-f888-48b2-8524-e332f29102b4",
                "tags": [
                    "hide_input"
                ]
            },
            "outputs": [
                {
                    "output_type": "execute_result",
                    "execution_count": 40,
                    "data": {
                        "text/plain": "'5 sigma move: 30000 USD * 5 * 0.29% = 440.3 USD'"
                    },
                    "metadata": {}
                }
            ],
            "execution_count": 40
        },
        {
            "cell_type": "code",
            "source": [
                "\n",
                "f'6 sigma move: {btc_price} USD * 6 * {vol_2min.round(4)*100}% = {(6 * btc_price * vol_2min).round(2)} USD'\n",
                ""
            ],
            "metadata": {
                "azdata_cell_guid": "4fc5cb0e-3208-44e2-b2e2-b61650061694",
                "tags": [
                    "hide_input"
                ]
            },
            "outputs": [
                {
                    "output_type": "execute_result",
                    "execution_count": 39,
                    "data": {
                        "text/plain": "'6 sigma move: 30000 USD * 6 * 0.29% = 528.36 USD'"
                    },
                    "metadata": {}
                }
            ],
            "execution_count": 39
        },
        {
            "cell_type": "markdown",
            "source": [
                "## Sample Size\n",
                "\n",
                "So far the whole history of the 1-minute price series has been used which means that the 2012 price action of BTC/USD influences the volatility calculation. \n",
                "\n",
                "One argument against the \"the more data the better\" is visible looking at the [log-returns](historical_volatility.ipynb) plot which shows extreme returns aka volatility in the 2012 period. Another one is volatility clustering where there's visibly periods of higher volatility followed by periods of lower.\n",
                "\n",
                "A rule of thumb with daily returns is to use the last 90 to 180 days so a sample set of 90-180 observations.\n",
                "\n",
                "This will probably make sense with live data to adapt to the volatility levels of the past 90-180 sample of 2-minute returns. But for now we can use less realistic numbers like the 150% annual volatility figure so we analyse an extreme/worse case scenario."
            ],
            "metadata": {
                "azdata_cell_guid": "ae3e907b-f58a-4d56-8f00-4f9243c74496"
            },
            "attachments": {}
        },
        {
            "cell_type": "markdown",
            "source": [
                "## Summary\n",
                "\n",
                "- Assumptions\n",
                "    - Price series ~ LogNormal distribution\n",
                "    - Log-return series ~ Normal distribution\n",
                "\n",
                "- Infered from empirical data\n",
                "    - 2-minute Volatility = 0.29%\n",
                "    - Annualized volatility = 150.53%"
            ],
            "metadata": {
                "azdata_cell_guid": "c100be89-b53d-40b8-bded-297da7e5f7d5"
            },
            "attachments": {}
        }
    ]
}