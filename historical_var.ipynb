{
    "metadata": {
        "kernelspec": {
            "name": "SQL",
            "display_name": "SQL",
            "language": "sql"
        },
        "language_info": {
            "name": "sql",
            "version": ""
        }
    },
    "nbformat_minor": 2,
    "nbformat": 4,
    "cells": [
        {
            "cell_type": "markdown",
            "source": [
                "# Empirical Value at Risk (VaR) and Conditional Value at Risk (CVaR)\n",
                "\n",
                "- Choose of of the Pnl return series from [Profit and Loss Historical Simulation](pnl_historical_simulation.ipynb),\n",
                "- display distribution,\n",
                "- highlight the VaR limit & value,\n",
                "- highlight the CVaR area & value,\n",
                "- interpret"
            ],
            "metadata": {
                "azdata_cell_guid": "5a2c2e65-7c79-45ed-a21b-e6bc45cb168b"
            },
            "attachments": {}
        },
        {
            "cell_type": "markdown",
            "source": [
                "## Value at Risk (VaR)\n",
                ""
            ],
            "metadata": {
                "azdata_cell_guid": "17215be8-60ea-40b5-bec8-ad4a800d3cdb"
            },
            "attachments": {}
        },
        {
            "cell_type": "markdown",
            "source": [
                "## Conditional Value at Risk (CVaR)"
            ],
            "metadata": {
                "azdata_cell_guid": "5e7c87a5-9fa3-430f-b27c-9527dd71a273"
            }
        }
    ]
}