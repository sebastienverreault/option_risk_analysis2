{
    "metadata": {
        "kernelspec": {
            "name": "python3",
            "display_name": "Python 3",
            "language": "python"
        },
        "language_info": {
            "name": "python",
            "version": "3.8.10",
            "mimetype": "text/x-python",
            "codemirror_mode": {
                "name": "ipython",
                "version": 3
            },
            "pygments_lexer": "ipython3",
            "nbconvert_exporter": "python",
            "file_extension": ".py"
        }
    },
    "nbformat_minor": 2,
    "nbformat": 4,
    "cells": [
        {
            "cell_type": "markdown",
            "source": [
                "# Laplacian Out of the Money Price Simulation\n",
                "\n",
                ""
            ],
            "metadata": {
                "azdata_cell_guid": "58a7d80a-8b74-46bd-ad22-554895760f5d"
            },
            "attachments": {}
        },
        {
            "cell_type": "code",
            "source": [
                "\n",
                "import math\n",
                "import random as random\n",
                "\n",
                "import pandas as pd\n",
                "# import pandas.io.sql as sqlio\n",
                "\n",
                "import numpy as np\n",
                "from numpy.random import default_rng\n",
                "np.set_printoptions(precision=5, suppress=True)\n",
                "\n",
                "import matplotlib as mpl\n",
                "import matplotlib.pyplot as plt\n",
                "\n",
                "import scipy as scipy\n",
                "from scipy.optimize import fsolve\n",
                "\n",
                "import psycopg2\n",
                "\n",
                "# import seaborn as sns\n",
                "\n",
                "from math import log, sqrt, exp, pi\n",
                "from scipy.stats import norm, laplace, t as student_t\n",
                "\n",
                "# Markdown in code cell\n",
                "from IPython.display import Markdown as md\n",
                "\n",
                "\n",
                "plt.style.use('seaborn')\n",
                "plt.colormaps\n",
                "mpl.rcParams['savefig.dpi'] = 300\n",
                "mpl.rcParams['font.family'] = 'serif'\n",
                "\n",
                "\n",
                "# Fee calculator\n",
                "def bsm_no_premium_call_option_fee(S0, T, sigma):\n",
                "    # BSM no-premium option strike calculator\n",
                "    def bsm_no_premium_strike(S0, T, sigma):\n",
                "        # init\n",
                "        r = 0.0\n",
                "        K_at_money = S0\n",
                "        # bsm terms\n",
                "        d1 = (log(S0/K_at_money) + (r + 0.5 * sigma**2) * T) / sigma / sqrt(T)\n",
                "        d2 = d1 - sigma * sqrt(T)\n",
                "        N_d1 = norm.cdf(d1)\n",
                "        N_d2 = norm.cdf(d2)\n",
                "        \n",
                "        def bsm_premium(K):\n",
                "            # bsm premium\n",
                "            BSM_C0_no_premium = S0 * N_d1 - K * exp(-r*T) * N_d2\n",
                "            return BSM_C0_no_premium\n",
                "        \n",
                "        K_no_premium = fsolve(bsm_premium, K_at_money)[0]\n",
                "        \n",
                "        return K_no_premium\n",
                "\n",
                "    K_no_premium = bsm_no_premium_strike(S0, T, sigma)\n",
                "\n",
                "    fee = (K_no_premium-S0)/S0\n",
                "\n",
                "    return fee\n",
                "\n",
                "def mc_no_premium_call_option_fee(S0, T, sigma, I):\n",
                "    # MC no-premium option strike calculator\n",
                "    def mc_no_premium_strike(S0, T, sigma, I):\n",
                "        # init\n",
                "        r = 0.0\n",
                "        K_at_money = S0\n",
                "\n",
                "        # underlying price vector at maturity\n",
                "        mc_rng = default_rng()\n",
                "        ST = S0 * np.exp((r - sigma ** 2 / 2) * T + sigma * math.sqrt(T) * mc_rng.standard_normal(I))\n",
                "\n",
                "        def mc_premium(K):\n",
                "            # not exercised\n",
                "            CT_below_K_at_money = ST[ST <= K_at_money] * 0\n",
                "\n",
                "            # exercised at a loss\n",
                "            CT_below_K = ST[ST > K_at_money]\n",
                "            CT_below_K = CT_below_K[CT_below_K <= K] - K\n",
                "\n",
                "            # exercised at a gain\n",
                "            CT_above_K = ST[ST > K] - K\n",
                "\n",
                "            # call option payoff at maturity\n",
                "            CT_no_premium = np.concatenate((CT_below_K_at_money, CT_below_K, CT_above_K))\n",
                "\n",
                "            CT_no_premium_mean = CT_no_premium.mean()\n",
                "\n",
                "            # call option fair value\n",
                "            MC_C0_no_premium = math.exp(-r * T) * CT_no_premium_mean\n",
                "\n",
                "            return MC_C0_no_premium\n",
                "        \n",
                "        K_no_premium = fsolve(mc_premium, K_at_money)[0]\n",
                "        \n",
                "        return K_no_premium\n",
                "\n",
                "    K_no_premium = mc_no_premium_strike(S0, T, sigma, I)\n",
                "\n",
                "    fee = (K_no_premium-S0)/S0\n",
                "\n",
                "    return fee\n",
                "\n",
                "# Data set\n",
                "btcusd_1min = pd.read_csv(\"./BTCUSD.csv\", sep=\",\", header=0, names=[\"date\",\"open\",\"high\",\"low\",\"close\"], index_col=\"date\")\n",
                "\n",
                "btcusd_1min['ret_2min'] = np.log(btcusd_1min['close'] / btcusd_1min['close'].shift(2))\n",
                "\n",
                "vol_2min = btcusd_1min['ret_2min'].std()\n",
                "\n",
                "# number of 2-minute per year\n",
                "nb_2min_per_year = 60/2 * 24 * 365.25\n",
                "vol_ann = vol_2min * sqrt(nb_2min_per_year)\n",
                ""
            ],
            "metadata": {
                "azdata_cell_guid": "6659985c-c558-4c2c-a894-46066737d04d",
                "tags": []
            },
            "outputs": [],
            "execution_count": 1
        },
        {
            "cell_type": "markdown",
            "source": [
                "## Monte Carlo Simulation\n",
                "\n",
                "It has already been established in [Log Normal At the Money Price Simulation](normal_at_money_simulation.ipynb) and [Log Normal Out of the Money Price Simulation](normal_out_money_simulation.ipynb) that a Monte Carlo simulation with normally distributed samples estimates the same option premium as the Black–Scholes–Merton analytical formula.\n",
                "\n",
                "It is also apparent from [Historical Returns Distribution fitting](historical_returns_fit.ipynb) that the BTC/USD returns are not normally distributed and that a Laplace distribution might be more representative of the observed fat tails.\n",
                "\n",
                "A Monte Carlo simulation using Laplacian samples will be implemented to compare the impact on the \"no-premium\" option's stike.\n",
                "\n",
                ""
            ],
            "metadata": {
                "azdata_cell_guid": "85d056b4-1cc1-4ade-afb4-85af8a0292d1"
            },
            "attachments": {}
        },
        {
            "cell_type": "code",
            "source": [
                "\n",
                "# underlying price at t=0\n",
                "S0 = 30_000.00\n",
                "\n",
                "# risk free rate (no present value discounting)\n",
                "r = 0.0\n",
                "\n",
                "# 2min yearly fraction\n",
                "T = 1 / (60/2 * 24 * 365.25)\n",
                "\n",
                "# annualized 2min volatility\n",
                "sigma = vol_ann\n",
                "\n",
                "# number of price simulations\n",
                "I = 1_000_000\n",
                "\n",
                "# calc bsm fee\n",
                "bsm_fee = bsm_no_premium_call_option_fee(S0, T, sigma)\n",
                "\n",
                "# calc mc fee\n",
                "mc_fee = mc_no_premium_call_option_fee(S0, T, sigma, I)\n",
                "\n",
                "header = '''|variable|value|\n",
                "|:-:|-:|'''\n",
                "\n",
                "table = \"\"\n",
                "table += f\"|S(0)|{float('%.8g' % S0)} USD|\\n\"\n",
                "table += f\"|T|{float('%.3g' % T)}|\\n\"\n",
                "table += f\"|r|{r}|\\n\"\n",
                "table += f\"|σ|{float('%.5g' % (sigma*100))}%|\\n\"\n",
                "table += f\"|I|{I}|\\n\"\n",
                "\n",
                "table2 = \"\"\n",
                "table2 += f\"|BSM fee|{float('%.5g' % (bsm_fee*100))}%|\\n\"\n",
                "table2 += f\"|MC fee|{float('%.5g' % (mc_fee*100))}%|\\n\"\n",
                "\n",
                "md(f\"\"\"### Simulation calculated variables\n",
                "{header}\n",
                "{table}\n",
                "### Calculated Fees\n",
                "{header}\n",
                "{table2}\n",
                "\"\"\")\n",
                ""
            ],
            "metadata": {
                "azdata_cell_guid": "6faf74f6-0145-4192-8a5b-1cf205c332b3",
                "tags": [
                    "hide_input"
                ]
            },
            "outputs": [
                {
                    "data": {
                        "text/plain": "<IPython.core.display.Markdown object>",
                        "text/markdown": "### Simulation calculated variables\n|variable|value|\n|:-:|-:|\n|S(0)|30000.0 USD|\n|T|3.8e-06|\n|r|0.0|\n|σ|150.53%|\n|I|1000000|\n\n### Calculated Fees\n|variable|value|\n|:-:|-:|\n|BSM fee|0.23448%|\n|MC fee|0.23447%|\n\n"
                    },
                    "metadata": {},
                    "execution_count": 3,
                    "output_type": "execute_result"
                }
            ],
            "execution_count": 3
        },
        {
            "cell_type": "code",
            "source": [
                "\n",
                "# Using the most recent 30 days worth of data only\n",
                "# nb_2min_in_30d = 30*24*60/2 # = 21600\n",
                "# ret_2min = btcusd_1min['ret_2min'][-21600:]\n",
                "ret_2min = btcusd_1min['ret_2min'][2:]\n",
                "\n",
                "# override the 2-min vol\n",
                "vol_2min = ret_2min.std()\n",
                "\n",
                "# number of 2-minute per year\n",
                "nb_2min_per_year = 60/2 * 24 * 365.25\n",
                "vol_ann = vol_2min * sqrt(nb_2min_per_year)\n",
                "\n",
                "mean = ret_2min.mean()\n",
                "std = ret_2min.std()\n",
                "\n",
                "# Fit the Laplace PDF.\n",
                "loc,scale = laplace.fit(ret_2min)\n",
                ""
            ],
            "metadata": {
                "azdata_cell_guid": "af74b24e-965e-4781-93f0-f1d126270127",
                "tags": [
                    "hide_input"
                ]
            },
            "outputs": [],
            "execution_count": 6
        },
        {
            "cell_type": "code",
            "source": [
                "\n",
                "# Calculate the fee\n",
                "fee = bsm_no_premium_call_option_fee(S0, T, sigma)\n",
                "K_no_premium = S0*(1+fee)\n",
                "\n",
                "# number of price simulations\n",
                "I = 1_000_000\n",
                "\n",
                "# fixes the seed for reproducibility\n",
                "rng = default_rng(99)\n",
                "# rng = default_rng()\n",
                "\n",
                "# underlying price vector from lplacian 2-minute log-returns\n",
                "ST = S0 * np.exp(laplace.rvs(loc, scale, size=I, random_state=99))\n",
                "\n",
                "# underlying price vector from lplacian 2-minute log-returns\n",
                "ST_actual = S0 * np.exp(ret_2min)\n",
                "\n",
                "# # underlying price vector from lplacian 2-minute log-returns\n",
                "# ret_2min_boot = random.choices(ret_2min, k=ret_2min.size)\n",
                "# ST_boot = S0 * np.exp(ret_2min_boot)\n",
                "\n",
                "\n",
                "header = '''|variable|value|\n",
                "|:-:|-:|'''\n",
                "\n",
                "table = \"\"\n",
                "table += f\"|S(0)|{float('%.8g' % S0)} USD|\\n\"\n",
                "table += f\"|T|{float('%.3g' % T)}|\\n\"\n",
                "table += f\"|r|{r}|\\n\"\n",
                "table += f\"|σ|{float('%.5g' % (sigma*100))}%|\\n\"\n",
                "table += f\"|fee|{float('%.5g' % (fee*100))}%|\\n\"\n",
                "table += f\"|K_no_premium|{float('%.7g' % K_no_premium)} USD|\\n\"\n",
                "table += f\"|I|{I}|\\n\"\n",
                "\n",
                "table2 = \"\"\n",
                "table2 += f\"|S(T)|{ST[:5].round(1)}...|\\n\"\n",
                "\n",
                "table3 = \"\"\n",
                "table3 += f\"|S(T) loc|{float('%.7g' % loc)}|\\n\"\n",
                "table3 += f\"|S(T) scale|{float('%.4g' % scale)}|\\n\"\n",
                "\n",
                "md(f\"\"\"### Simulation calculated variables\n",
                "{header}\n",
                "{table}\n",
                "### Terminal prices samples\n",
                "{header}\n",
                "{table2}\n",
                "### Terminal prices stats\n",
                "{header}\n",
                "{table3}\n",
                "\"\"\")\n",
                ""
            ],
            "metadata": {
                "azdata_cell_guid": "f2330794-0b8b-4ced-a9e6-3d76fe58d0b9",
                "tags": [
                    "hide_input"
                ]
            },
            "outputs": [
                {
                    "data": {
                        "text/plain": "<IPython.core.display.Markdown object>",
                        "text/markdown": "### Simulation calculated variables\n|variable|value|\n|:-:|-:|\n|S(0)|30000.0 USD|\n|T|3.8e-06|\n|r|0.0|\n|σ|150.53%|\n|fee|0.23448%|\n|K_no_premium|30070.34 USD|\n|I|1000000|\n\n### Terminal prices samples\n|variable|value|\n|:-:|-:|\n|S(T)|[30017.3 29999.  30043.  29887.3 30039.1]...|\n\n### Terminal prices stats\n|variable|value|\n|:-:|-:|\n|S(T) loc|0.0|\n|S(T) scale|0.001361|\n\n"
                    },
                    "metadata": {},
                    "execution_count": 7,
                    "output_type": "execute_result"
                }
            ],
            "execution_count": 7
        },
        {
            "cell_type": "code",
            "source": [
                "\n",
                "plt.figure(figsize=(24, 15))\n",
                "plt.hist(ST, bins=1000, label='frequency');\n",
                "\n",
                "# plt.axvline(ST_mean, color='r', label=f\"mean ({float('%.7g' % (ST_mean))})\")\n",
                "\n",
                "# plt.axvline(ST_mean + 1 * ST_std, color='g',      label=f\"+1 sd ({float('%.7g' % (ST_mean + 1 * ST_std))})\", linestyle='--')\n",
                "# plt.axvline(ST_mean - 1 * ST_std, color='g',      label=f\"-1 sd ({float('%.7g' % (ST_mean - 1 * ST_std))})\", linestyle='--')\n",
                "\n",
                "# plt.axvline(ST_mean + 2 * ST_std, color='b',      label=f\"+2 sd ({float('%.7g' % (ST_mean + 2 * ST_std))})\", linestyle='--')\n",
                "# plt.axvline(ST_mean - 2 * ST_std, color='b',      label=f\"-2 sd ({float('%.7g' % (ST_mean - 2 * ST_std))})\", linestyle='--')\n",
                "\n",
                "# plt.axvline(ST_mean + 3 * ST_std, color='m',      label=f\"+3 sd ({float('%.7g' % (ST_mean + 3 * ST_std))})\", linestyle='--')\n",
                "# plt.axvline(ST_mean - 3 * ST_std, color='m',      label=f\"-3 sd ({float('%.7g' % (ST_mean - 3 * ST_std))})\", linestyle='--')\n",
                "\n",
                "# plt.axvline(ST_mean + 4 * ST_std, color='k',      label=f\"+4 sd ({float('%.7g' % (ST_mean + 4 * ST_std))})\", linestyle='--')\n",
                "# plt.axvline(ST_mean - 4 * ST_std, color='k',      label=f\"-4 sd ({float('%.7g' % (ST_mean - 4 * ST_std))})\", linestyle='--')\n",
                "\n",
                "# plt.axvline(ST_mean + 5 * ST_std, color='orange', label=f\"+5 sd ({float('%.7g' % (ST_mean + 5 * ST_std))})\", linestyle='--')\n",
                "# plt.axvline(ST_mean - 5 * ST_std, color='orange', label=f\"-5 sd ({float('%.7g' % (ST_mean - 5 * ST_std))})\", linestyle='--')\n",
                "\n",
                "plt.title(f'Terminal Price Distribution from {I} samples')\n",
                "plt.legend(loc='best');\n",
                "plt.show()"
            ],
            "metadata": {
                "azdata_cell_guid": "12d9a522-3d3c-43c4-ae75-10177f4e000a",
                "tags": [
                    "hide_input"
                ]
            },
            "outputs": [
                {
                    "data": {
                        "text/plain": "<Figure size 1728x1080 with 1 Axes>",
                        "image/png": "[encoded data removed]"
                    },
                    "metadata": {
                        "needs_background": "light"
                    },
                    "output_type": "display_data"
                }
            ],
            "execution_count": 8
        }
    ]
}